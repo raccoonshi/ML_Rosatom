{
  "nbformat": 4,
  "nbformat_minor": 0,
  "metadata": {
    "colab": {
      "provenance": []
    },
    "kernelspec": {
      "name": "python3",
      "display_name": "Python 3"
    },
    "language_info": {
      "name": "python"
    }
  },
  "cells": [
    {
      "cell_type": "code",
      "execution_count": 163,
      "metadata": {
        "id": "zuYzGiTr_wtl"
      },
      "outputs": [],
      "source": [
        "from tensorflow.keras.datasets import imdb\n",
        "from tensorflow.keras.models import Sequential\n",
        "from tensorflow.keras.layers import Dense\n",
        "from tensorflow.keras.preprocessing.text import Tokenizer\n",
        "from tensorflow.keras.preprocessing.sequence import pad_sequences\n",
        "from tensorflow.keras import utils\n",
        "from tensorflow.keras.preprocessing.sequence import pad_sequences\n",
        "\n",
        "import matplotlib.pyplot as plt\n",
        "import numpy as np\n",
        "import warnings\n",
        "warnings.filterwarnings('ignore')\n",
        "\n",
        "from sklearn.datasets import fetch_20newsgroups\n",
        "from sklearn.metrics import accuracy_score\n",
        "\n",
        "import collections\n",
        "\n",
        "import torch\n",
        "from torch import nn\n",
        "from torch.nn import functional as F\n"
      ]
    },
    {
      "cell_type": "markdown",
      "source": [],
      "metadata": {
        "id": "_kMvZIk4p0Wm"
      }
    },
    {
      "cell_type": "code",
      "source": [
        "max_words=10000\n",
        "(x_train, y_train), (x_test, y_test) = imdb.load_data(num_words=max_words)"
      ],
      "metadata": {
        "id": "jib2lqz9BrEa"
      },
      "execution_count": 164,
      "outputs": []
    },
    {
      "cell_type": "code",
      "source": [
        "def vectorize_sequences(sequences, dimension=10000):\n",
        "    results = np.zeros((len(sequences), dimension))\n",
        "    for i, sequence in enumerate(sequences):\n",
        "        results[i, sequence] = 1.\n",
        "    return results"
      ],
      "metadata": {
        "id": "aJv5SbUWB5YA"
      },
      "execution_count": 165,
      "outputs": []
    },
    {
      "cell_type": "code",
      "source": [
        "x_train = vectorize_sequences(x_train, max_words)\n",
        "x_test = vectorize_sequences(x_test, max_words)"
      ],
      "metadata": {
        "id": "wBX2Fu-CCEBx"
      },
      "execution_count": 166,
      "outputs": []
    },
    {
      "cell_type": "code",
      "source": [
        "model = Sequential()\n",
        "model.add(Dense(128, activation='relu', input_shape=(max_words,)))\n",
        "model.add(Dense(64, activation='relu'))\n",
        "model.add(Dense(1, activation='sigmoid'))"
      ],
      "metadata": {
        "id": "TKY2KdzPCIBc"
      },
      "execution_count": 167,
      "outputs": []
    },
    {
      "cell_type": "code",
      "source": [
        "model.compile(optimizer='adam',\n",
        "              loss='binary_crossentropy',\n",
        "              metrics=['accuracy'])"
      ],
      "metadata": {
        "id": "E4g18CR9CWxT"
      },
      "execution_count": 168,
      "outputs": []
    },
    {
      "cell_type": "code",
      "source": [
        "history = model.fit(x_train,\n",
        "                    y_train,\n",
        "                    epochs=20,\n",
        "                    batch_size=128,\n",
        "                    validation_split=0.1)"
      ],
      "metadata": {
        "colab": {
          "base_uri": "https://localhost:8080/"
        },
        "id": "XVovBNBdCa3M",
        "outputId": "9a1c2d69-5408-4854-d6a0-7a83da05e0a2"
      },
      "execution_count": 169,
      "outputs": [
        {
          "output_type": "stream",
          "name": "stdout",
          "text": [
            "Epoch 1/20\n",
            "\u001b[1m176/176\u001b[0m \u001b[32m━━━━━━━━━━━━━━━━━━━━\u001b[0m\u001b[37m\u001b[0m \u001b[1m6s\u001b[0m 26ms/step - accuracy: 0.8086 - loss: 0.4202 - val_accuracy: 0.8816 - val_loss: 0.2955\n",
            "Epoch 2/20\n",
            "\u001b[1m176/176\u001b[0m \u001b[32m━━━━━━━━━━━━━━━━━━━━\u001b[0m\u001b[37m\u001b[0m \u001b[1m6s\u001b[0m 33ms/step - accuracy: 0.9452 - loss: 0.1516 - val_accuracy: 0.8808 - val_loss: 0.3022\n",
            "Epoch 3/20\n",
            "\u001b[1m176/176\u001b[0m \u001b[32m━━━━━━━━━━━━━━━━━━━━\u001b[0m\u001b[37m\u001b[0m \u001b[1m10s\u001b[0m 29ms/step - accuracy: 0.9741 - loss: 0.0793 - val_accuracy: 0.8776 - val_loss: 0.3735\n",
            "Epoch 4/20\n",
            "\u001b[1m176/176\u001b[0m \u001b[32m━━━━━━━━━━━━━━━━━━━━\u001b[0m\u001b[37m\u001b[0m \u001b[1m5s\u001b[0m 30ms/step - accuracy: 0.9936 - loss: 0.0267 - val_accuracy: 0.8824 - val_loss: 0.5279\n",
            "Epoch 5/20\n",
            "\u001b[1m176/176\u001b[0m \u001b[32m━━━━━━━━━━━━━━━━━━━━\u001b[0m\u001b[37m\u001b[0m \u001b[1m10s\u001b[0m 32ms/step - accuracy: 0.9995 - loss: 0.0042 - val_accuracy: 0.8892 - val_loss: 0.6404\n",
            "Epoch 6/20\n",
            "\u001b[1m176/176\u001b[0m \u001b[32m━━━━━━━━━━━━━━━━━━━━\u001b[0m\u001b[37m\u001b[0m \u001b[1m9s\u001b[0m 25ms/step - accuracy: 1.0000 - loss: 9.6319e-04 - val_accuracy: 0.8856 - val_loss: 0.7253\n",
            "Epoch 7/20\n",
            "\u001b[1m176/176\u001b[0m \u001b[32m━━━━━━━━━━━━━━━━━━━━\u001b[0m\u001b[37m\u001b[0m \u001b[1m6s\u001b[0m 33ms/step - accuracy: 1.0000 - loss: 2.9417e-04 - val_accuracy: 0.8848 - val_loss: 0.7794\n",
            "Epoch 8/20\n",
            "\u001b[1m176/176\u001b[0m \u001b[32m━━━━━━━━━━━━━━━━━━━━\u001b[0m\u001b[37m\u001b[0m \u001b[1m4s\u001b[0m 25ms/step - accuracy: 1.0000 - loss: 1.6983e-04 - val_accuracy: 0.8856 - val_loss: 0.8161\n",
            "Epoch 9/20\n",
            "\u001b[1m176/176\u001b[0m \u001b[32m━━━━━━━━━━━━━━━━━━━━\u001b[0m\u001b[37m\u001b[0m \u001b[1m5s\u001b[0m 24ms/step - accuracy: 1.0000 - loss: 1.1217e-04 - val_accuracy: 0.8856 - val_loss: 0.8462\n",
            "Epoch 10/20\n",
            "\u001b[1m176/176\u001b[0m \u001b[32m━━━━━━━━━━━━━━━━━━━━\u001b[0m\u001b[37m\u001b[0m \u001b[1m6s\u001b[0m 32ms/step - accuracy: 1.0000 - loss: 8.1589e-05 - val_accuracy: 0.8852 - val_loss: 0.8726\n",
            "Epoch 11/20\n",
            "\u001b[1m176/176\u001b[0m \u001b[32m━━━━━━━━━━━━━━━━━━━━\u001b[0m\u001b[37m\u001b[0m \u001b[1m9s\u001b[0m 27ms/step - accuracy: 1.0000 - loss: 5.9090e-05 - val_accuracy: 0.8864 - val_loss: 0.8972\n",
            "Epoch 12/20\n",
            "\u001b[1m176/176\u001b[0m \u001b[32m━━━━━━━━━━━━━━━━━━━━\u001b[0m\u001b[37m\u001b[0m \u001b[1m5s\u001b[0m 27ms/step - accuracy: 1.0000 - loss: 4.8124e-05 - val_accuracy: 0.8856 - val_loss: 0.9200\n",
            "Epoch 13/20\n",
            "\u001b[1m176/176\u001b[0m \u001b[32m━━━━━━━━━━━━━━━━━━━━\u001b[0m\u001b[37m\u001b[0m \u001b[1m4s\u001b[0m 24ms/step - accuracy: 1.0000 - loss: 3.4086e-05 - val_accuracy: 0.8856 - val_loss: 0.9414\n",
            "Epoch 14/20\n",
            "\u001b[1m176/176\u001b[0m \u001b[32m━━━━━━━━━━━━━━━━━━━━\u001b[0m\u001b[37m\u001b[0m \u001b[1m6s\u001b[0m 32ms/step - accuracy: 1.0000 - loss: 2.6581e-05 - val_accuracy: 0.8852 - val_loss: 0.9610\n",
            "Epoch 15/20\n",
            "\u001b[1m176/176\u001b[0m \u001b[32m━━━━━━━━━━━━━━━━━━━━\u001b[0m\u001b[37m\u001b[0m \u001b[1m4s\u001b[0m 25ms/step - accuracy: 1.0000 - loss: 2.2405e-05 - val_accuracy: 0.8848 - val_loss: 0.9798\n",
            "Epoch 16/20\n",
            "\u001b[1m176/176\u001b[0m \u001b[32m━━━━━━━━━━━━━━━━━━━━\u001b[0m\u001b[37m\u001b[0m \u001b[1m5s\u001b[0m 24ms/step - accuracy: 1.0000 - loss: 1.8128e-05 - val_accuracy: 0.8848 - val_loss: 0.9976\n",
            "Epoch 17/20\n",
            "\u001b[1m176/176\u001b[0m \u001b[32m━━━━━━━━━━━━━━━━━━━━\u001b[0m\u001b[37m\u001b[0m \u001b[1m6s\u001b[0m 31ms/step - accuracy: 1.0000 - loss: 1.5592e-05 - val_accuracy: 0.8848 - val_loss: 1.0150\n",
            "Epoch 18/20\n",
            "\u001b[1m176/176\u001b[0m \u001b[32m━━━━━━━━━━━━━━━━━━━━\u001b[0m\u001b[37m\u001b[0m \u001b[1m4s\u001b[0m 24ms/step - accuracy: 1.0000 - loss: 1.2897e-05 - val_accuracy: 0.8848 - val_loss: 1.0313\n",
            "Epoch 19/20\n",
            "\u001b[1m176/176\u001b[0m \u001b[32m━━━━━━━━━━━━━━━━━━━━\u001b[0m\u001b[37m\u001b[0m \u001b[1m5s\u001b[0m 27ms/step - accuracy: 1.0000 - loss: 9.4709e-06 - val_accuracy: 0.8848 - val_loss: 1.0470\n",
            "Epoch 20/20\n",
            "\u001b[1m176/176\u001b[0m \u001b[32m━━━━━━━━━━━━━━━━━━━━\u001b[0m\u001b[37m\u001b[0m \u001b[1m5s\u001b[0m 31ms/step - accuracy: 1.0000 - loss: 9.1060e-06 - val_accuracy: 0.8844 - val_loss: 1.0627\n"
          ]
        }
      ]
    },
    {
      "cell_type": "code",
      "source": [
        "plt.plot(history.history['accuracy'],\n",
        "         label='Доля верных ответов на обучающем наборе')\n",
        "plt.plot(history.history['val_accuracy'],\n",
        "         label='Доля верных ответов на проверочном наборе')\n",
        "plt.xlabel('Эпоха обучения')\n",
        "plt.ylabel('Доля верных ответов')\n",
        "plt.legend()\n",
        "plt.show()"
      ],
      "metadata": {
        "colab": {
          "base_uri": "https://localhost:8080/",
          "height": 449
        },
        "id": "9jV2eGo5CdCW",
        "outputId": "ede70038-0008-400f-8647-6d056bdf9b90"
      },
      "execution_count": 170,
      "outputs": [
        {
          "output_type": "display_data",
          "data": {
            "text/plain": [
              "<Figure size 640x480 with 1 Axes>"
            ],
            "image/png": "[encoded data removed]"
          },
          "metadata": {}
        }
      ]
    },
    {
      "cell_type": "code",
      "source": [
        "scores = model.evaluate(x_test, y_test, verbose=1)"
      ],
      "metadata": {
        "colab": {
          "base_uri": "https://localhost:8080/"
        },
        "id": "OljLIsxsCgeZ",
        "outputId": "c955a51c-1f71-4e02-c390-8d135ae3191b"
      },
      "execution_count": 171,
      "outputs": [
        {
          "output_type": "stream",
          "name": "stdout",
          "text": [
            "\u001b[1m782/782\u001b[0m \u001b[32m━━━━━━━━━━━━━━━━━━━━\u001b[0m\u001b[37m\u001b[0m \u001b[1m3s\u001b[0m 4ms/step - accuracy: 0.8650 - loss: 1.1573\n"
          ]
        }
      ]
    },
    {
      "cell_type": "code",
      "source": [
        "print(\"Доля верных ответов на тестовых данных, в процентах:\", round(scores[1] * 100, 4))"
      ],
      "metadata": {
        "colab": {
          "base_uri": "https://localhost:8080/"
        },
        "id": "olHtA6PGCgzj",
        "outputId": "f62d9283-5ef8-42f0-e185-ad981edbae1a"
      },
      "execution_count": 172,
      "outputs": [
        {
          "output_type": "stream",
          "name": "stdout",
          "text": [
            "Доля верных ответов на тестовых данных, в процентах: 86.58\n"
          ]
        }
      ]
    },
    {
      "cell_type": "code",
      "source": [
        "new_review = \"I liked the film very much. I can say with confidence that all the awards that this tape has received, it has received absolutely deservedly.\""
      ],
      "metadata": {
        "id": "r3epv_yOQvK-"
      },
      "execution_count": 174,
      "outputs": []
    },
    {
      "cell_type": "code",
      "source": [
        "# Функция для предсказания оценки фильма\n",
        "def predict_review(review):\n",
        "    # Преобразуем отзыв в последовательность индексов\n",
        "    words = review.lower().split()\n",
        "    word_index = imdb.get_word_index()\n",
        "\n",
        "    # Создаем последовательность индексов для нового отзыва\n",
        "    review_sequence = [word_index.get(word, 2) for word in words]  # 2 — индекс для 'UNK' (неизвестное слово)\n",
        "\n",
        "    # Векторизация нового отзыва\n",
        "    new_review_vector = np.zeros((1, max_words))\n",
        "    new_review_vector[0, review_sequence] = 1.\n",
        "\n",
        "    # Предсказание\n",
        "    prediction = model.predict(new_review_vector)\n",
        "\n",
        "    # Интерпретация результата\n",
        "    sentiment_score = prediction[0][0]\n",
        "\n",
        "    if sentiment_score >= 0.5:\n",
        "        sentiment = \"Положительный отзыв\"\n",
        "        rating = round(sentiment_score * 10)  # Оценка от 0 до 10\n",
        "    else:\n",
        "        sentiment = \"Отрицательный отзыв\"\n",
        "        rating = round((1 - sentiment_score) * 10)  # Оценка от 0 до 10\n",
        "\n",
        "    return sentiment, rating\n",
        "\n",
        "# Новый отзыв для тестирования\n",
        "#new_review = \"This movie was terrible. The plot was boring and the acting was awful.\"\n",
        "sentiment, rating = predict_review(new_review)\n",
        "\n",
        "print(f\"Отзыв: {new_review}\")\n",
        "print(f\"Результат анализа: {sentiment}\")\n",
        "print(f\"Оценка фильма: {rating}/10\")"
      ],
      "metadata": {
        "id": "JKBE7vo_YKvw",
        "outputId": "36637704-4dd4-4afa-a1a0-c16dcb70f89e",
        "colab": {
          "base_uri": "https://localhost:8080/"
        }
      },
      "execution_count": 178,
      "outputs": [
        {
          "output_type": "stream",
          "name": "stdout",
          "text": [
            "\u001b[1m1/1\u001b[0m \u001b[32m━━━━━━━━━━━━━━━━━━━━\u001b[0m\u001b[37m\u001b[0m \u001b[1m0s\u001b[0m 15ms/step\n",
            "Отзыв: This movie was terrible. The plot was boring and the acting was awful.\n",
            "Результат анализа: Положительный отзыв\n",
            "Оценка фильма: 10/10\n"
          ]
        }
      ]
    }
  ]
}